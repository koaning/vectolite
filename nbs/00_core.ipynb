{
 "cells": [
  {
   "cell_type": "markdown",
   "metadata": {},
   "source": [
    "# core\n",
    "\n",
    "> All the core components are stored here."
   ]
  },
  {
   "cell_type": "code",
   "execution_count": null,
   "metadata": {},
   "outputs": [],
   "source": [
    "#| default_exp core"
   ]
  },
  {
   "cell_type": "code",
   "execution_count": null,
   "metadata": {},
   "outputs": [],
   "source": [
    "#| hide\n",
    "! rm -rf another-demo/ another-demo.sqlite demo/ demo.sqlite"
   ]
  },
  {
   "cell_type": "code",
   "execution_count": null,
   "metadata": {},
   "outputs": [],
   "source": [
    "#| hide\n",
    "#| export\n",
    "from nbdev.showdoc import *\n",
    "from fastcore.basics import patch\n",
    "import json\n",
    "from diskcache import Cache\n",
    "import hashlib\n",
    "import orjson\n",
    "import sqlite_vec\n",
    "import pysqlite3\n",
    "from typing import Dict\n",
    "\n",
    "from typing import List\n",
    "import struct\n",
    "\n",
    "\n",
    "def serialize_f32(vector: List[float]) -> bytes:\n",
    "    \"\"\"Serializes a list of floats into a compact \"raw bytes\" format.\"\"\"\n",
    "    return struct.pack(\"%sf\" % len(vector), *vector)"
   ]
  },
  {
   "cell_type": "code",
   "execution_count": null,
   "metadata": {},
   "outputs": [],
   "source": [
    "#| export\n",
    "\n",
    "class VectoyLite:\n",
    "    def __init__(self, path: str):\n",
    "        \"\"\"\n",
    "        Initializes the VectoLite instance with a connection to the SQLite database.\n",
    "\n",
    "        Parameters\n",
    "        ----------\n",
    "            path \n",
    "                The path to the SQLite database file.\n",
    "        \"\"\"\n",
    "        self.path = path\n",
    "        self.db = pysqlite3.connect(f'{path}.sqlite')\n",
    "        self.db.enable_load_extension(True)\n",
    "        sqlite_vec.load(self.db)\n",
    "        self.db.enable_load_extension(False)\n",
    "        self.cache = Cache(path)\n",
    "        self.rownums = None\n",
    "        self.table_name = 'myvecs'\n",
    "\n",
    "    def __len__(self):\n",
    "        \"\"\"\n",
    "        Returns the number of rows in the specified table. Will also cache the number of rows internally when called.\n",
    "\n",
    "        Returns\n",
    "        -------\n",
    "        int\n",
    "            The number of rows in the table.\n",
    "        \"\"\"\n",
    "        if not self.rownums:\n",
    "            self.rownums = self.db.execute(f\"SELECT COUNT(*) FROM {self.table_name}\").fetchone()[0]\n",
    "        return self.rownums\n",
    "\n",
    "    @property\n",
    "    def table_exists(self) -> bool:\n",
    "        \"\"\"\n",
    "        Checks if a table exists in the SQLite database.\n",
    "\n",
    "        Returns\n",
    "        -------\n",
    "        bool\n",
    "            True if the table exists, False otherwise.\n",
    "        \"\"\"\n",
    "        return self.db.execute(f\"SELECT name FROM sqlite_master WHERE type='table' AND name='{self.table_name}'\").fetchone() is not None"
   ]
  },
  {
   "cell_type": "code",
   "execution_count": null,
   "metadata": {},
   "outputs": [
    {
     "ename": "NameError",
     "evalue": "name 'patch' is not defined",
     "output_type": "error",
     "traceback": [
      "\u001b[0;31m---------------------------------------------------------------------------\u001b[0m",
      "\u001b[0;31mNameError\u001b[0m                                 Traceback (most recent call last)",
      "Cell \u001b[0;32mIn[1], line 3\u001b[0m\n\u001b[1;32m      1\u001b[0m \u001b[38;5;66;03m#| export\u001b[39;00m\n\u001b[0;32m----> 3\u001b[0m \u001b[38;5;129m@patch\u001b[39m\n\u001b[1;32m      4\u001b[0m \u001b[38;5;28;01mdef\u001b[39;00m \u001b[38;5;21mprint_version\u001b[39m(\u001b[38;5;28mself\u001b[39m: VectoyLite):\n\u001b[1;32m      5\u001b[0m \u001b[38;5;250m    \u001b[39m\u001b[38;5;124;03m\"\"\"\u001b[39;00m\n\u001b[1;32m      6\u001b[0m \u001b[38;5;124;03m    Prints the SQLite and SQLite-vec versions.\u001b[39;00m\n\u001b[1;32m      7\u001b[0m \u001b[38;5;124;03m    \"\"\"\u001b[39;00m\n\u001b[1;32m      8\u001b[0m     sqlite_version, vec_version \u001b[38;5;241m=\u001b[39m \u001b[38;5;28mself\u001b[39m\u001b[38;5;241m.\u001b[39mdb\u001b[38;5;241m.\u001b[39mexecute(\n\u001b[1;32m      9\u001b[0m         \u001b[38;5;124m\"\u001b[39m\u001b[38;5;124mselect sqlite_version(), vec_version()\u001b[39m\u001b[38;5;124m\"\u001b[39m\n\u001b[1;32m     10\u001b[0m     )\u001b[38;5;241m.\u001b[39mfetchone()\n",
      "\u001b[0;31mNameError\u001b[0m: name 'patch' is not defined"
     ]
    }
   ],
   "source": [
    "#| export\n",
    "\n",
    "@patch\n",
    "def print_version(self: VectoyLite):\n",
    "    \"\"\"\n",
    "    Prints the SQLite and SQLite-vec versions.\n",
    "    \"\"\"\n",
    "    sqlite_version, vec_version = self.db.execute(\n",
    "        \"select sqlite_version(), vec_version()\"\n",
    "    ).fetchone()\n",
    "    print(f\"sqlite_version={sqlite_version}, vec_version={vec_version}\")"
   ]
  },
  {
   "cell_type": "code",
   "execution_count": null,
   "metadata": {},
   "outputs": [
    {
     "name": "stdout",
     "output_type": "stream",
     "text": [
      "sqlite_version=3.46.1, vec_version=v0.1.1\n"
     ]
    }
   ],
   "source": [
    "VectoyLite(\"demo\").print_version()"
   ]
  },
  {
   "cell_type": "code",
   "execution_count": null,
   "metadata": {},
   "outputs": [],
   "source": [
    "#| export\n",
    "\n",
    "@patch\n",
    "def parse_item(self: VectoyLite, item: Dict):\n",
    "    \"\"\"\n",
    "    Parses an item and returns its MD5 hash, serialized contents, and vector.\n",
    "\n",
    "    This is mainly meant as an internal method, but there may be times when you want to confirm these manually.\n",
    "\n",
    "    Parameters\n",
    "    ----------\n",
    "        item \n",
    "            The item to parse.\n",
    "\n",
    "    Returns\n",
    "    -------\n",
    "        tuple\n",
    "            A tuple containing the MD5 hash (str), serialized contents (str), and serialized vector (bytes).\n",
    "    \"\"\"\n",
    "    contents = orjson.dumps({k: v for k, v in item.items() if k != 'vector'})\n",
    "    md5_hash = hashlib.md5(contents).hexdigest()\n",
    "    return md5_hash, contents, item['vector']"
   ]
  },
  {
   "cell_type": "code",
   "execution_count": null,
   "metadata": {},
   "outputs": [
    {
     "data": {
      "text/plain": [
       "('fbc24bcc7a1794758fc1327fcfebdaf6', b'{\"hello\":\"world\"}', [1, 2, 3])"
      ]
     },
     "execution_count": null,
     "metadata": {},
     "output_type": "execute_result"
    }
   ],
   "source": [
    "VectoyLite(\"demo\").parse_item({\"hello\": \"world\", \"vector\": [1, 2, 3]})"
   ]
  },
  {
   "cell_type": "code",
   "execution_count": null,
   "metadata": {},
   "outputs": [
    {
     "data": {
      "text/plain": [
       "('a8af219242bb71a1c085ee0c7e16e322', b'{\"hello\":\"world!\"}', [1, 2, 3])"
      ]
     },
     "execution_count": null,
     "metadata": {},
     "output_type": "execute_result"
    }
   ],
   "source": [
    "VectoyLite(\"demo\").parse_item({\"hello\": \"world!\", \"vector\": [1, 2, 3]})"
   ]
  },
  {
   "cell_type": "code",
   "execution_count": null,
   "metadata": {},
   "outputs": [],
   "source": [
    "#| export\n",
    "\n",
    "@patch\n",
    "def insert(self: VectoyLite, stream):\n",
    "    \"\"\"\n",
    "    Inserts a stream of items into the specified table.\n",
    "\n",
    "    Parameters\n",
    "    ----------\n",
    "        stream\n",
    "            An iterable stream of dictionaries to insert.\n",
    "    \"\"\"\n",
    "    with self.db:\n",
    "        for item in stream:\n",
    "            md5_hash, contents, vector = self.parse_item(item)\n",
    "            print(md5_hash, contents, vector)\n",
    "    \n",
    "            # Edge case: if the table does not exist, create it\n",
    "            if not self.table_exists:\n",
    "                self.db.execute(f\"CREATE VIRTUAL TABLE {self.table_name} USING vec0(embedding float[{len(vector)}])\")\n",
    "                self.rownums = 0\n",
    "\n",
    "            # If we have already inserted this item, no need to add again\n",
    "            if md5_hash in self.cache:\n",
    "                return\n",
    "\n",
    "            # Insert the item into the table\n",
    "            i = len(self) + 1\n",
    "            self.db.execute(\n",
    "                f\"INSERT INTO {self.table_name}(rowid, embedding) VALUES (?, ?)\",\n",
    "                [i, serialize_f32(vector)],\n",
    "            )\n",
    "            self.cache[i] = contents\n",
    "            self.cache[md5_hash] = i\n",
    "            self.rownums += 1"
   ]
  },
  {
   "cell_type": "code",
   "execution_count": null,
   "metadata": {},
   "outputs": [
    {
     "name": "stdout",
     "output_type": "stream",
     "text": [
      "a8af219242bb71a1c085ee0c7e16e322 b'{\"hello\":\"world!\"}' [1, 2, 3, 4]\n"
     ]
    }
   ],
   "source": [
    "VectoyLite(\"demo\").insert([{\"hello\": \"world!\", \"vector\": [1, 2, 3, 4]}])"
   ]
  },
  {
   "cell_type": "code",
   "execution_count": null,
   "metadata": {},
   "outputs": [],
   "source": [
    "#| export\n",
    "\n",
    "@patch\n",
    "def query_idx(self: VectoyLite, query, k=5):\n",
    "    \"\"\"\n",
    "    Queries the specified table for the nearest neighbors to the given query vector.\n",
    "\n",
    "    Parameters\n",
    "    ----------\n",
    "        query\n",
    "            The query vector\n",
    "\n",
    "    Returns\n",
    "    -------\n",
    "        tuple: A tuple containing the rowids and distances of the nearest neighbors.\n",
    "    \"\"\"\n",
    "    results = self.db.execute(\n",
    "        f\"\"\"\n",
    "          SELECT\n",
    "            rowid,\n",
    "            distance\n",
    "          FROM {self.table_name}\n",
    "          WHERE embedding MATCH ?\n",
    "          ORDER BY distance\n",
    "          LIMIT {k}\n",
    "        \"\"\",\n",
    "        [serialize_f32(query)],\n",
    "    ).fetchall()\n",
    "    return list(zip(*results))"
   ]
  },
  {
   "cell_type": "code",
   "execution_count": null,
   "metadata": {},
   "outputs": [],
   "source": [
    "#| export\n",
    "\n",
    "@patch\n",
    "def query(self: VectoyLite, query, k=5):\n",
    "    \"\"\"\n",
    "    Queries the specified table for the nearest neighbors to the given query vector.\n",
    "\n",
    "    Parameters\n",
    "    ----------\n",
    "        query\n",
    "            The query vector\n",
    "\n",
    "    Returns\n",
    "    -------\n",
    "        tuple: A tuple containing the inserted items and distances of the nearest neighbors.\n",
    "    \"\"\"\n",
    "    idxs, dists = self.query_idx(query, k)\n",
    "    return [json.loads(self.cache[i].decode()) for i in idxs], dists"
   ]
  },
  {
   "cell_type": "code",
   "execution_count": null,
   "metadata": {},
   "outputs": [],
   "source": [
    "#| hide\n",
    "import nbdev; nbdev.nbdev_export()"
   ]
  },
  {
   "cell_type": "code",
   "execution_count": null,
   "metadata": {},
   "outputs": [],
   "source": [
    "#| hide\n",
    "! rm -rf another-demo/ another-demo.sqlite demo/ demo.sqlite"
   ]
  },
  {
   "cell_type": "code",
   "execution_count": null,
   "metadata": {},
   "outputs": [],
   "source": []
  }
 ],
 "metadata": {
  "kernelspec": {
   "display_name": "python3",
   "language": "python",
   "name": "python3"
  }
 },
 "nbformat": 4,
 "nbformat_minor": 4
}
