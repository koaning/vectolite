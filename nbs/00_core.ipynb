{
 "cells": [
  {
   "cell_type": "markdown",
   "metadata": {},
   "source": [
    "# core\n",
    "\n",
    "> This is a single notebook that contains all the source code, yay!"
   ]
  },
  {
   "cell_type": "code",
   "execution_count": null,
   "metadata": {},
   "outputs": [],
   "source": [
    "#| default_exp core"
   ]
  },
  {
   "cell_type": "code",
   "execution_count": 2,
   "metadata": {},
   "outputs": [],
   "source": [
    "#| hide\n",
    "from nbdev.showdoc import *\n",
    "import json\n",
    "from diskcache import Cache\n",
    "import hashlib\n",
    "import orjson\n",
    "import sqlite_vec\n",
    "import pysqlite3\n",
    "\n",
    "from typing import List\n",
    "import struct\n",
    "\n",
    "\n",
    "def serialize_f32(vector: List[float]) -> bytes:\n",
    "    \"\"\"Serializes a list of floats into a compact \"raw bytes\" format.\"\"\"\n",
    "    return struct.pack(\"%sf\" % len(vector), *vector)\n",
    "\n"
   ]
  },
  {
   "cell_type": "code",
   "execution_count": 5,
   "metadata": {},
   "outputs": [],
   "source": [
    "#| export\n",
    "\n",
    "class VectoLite:\n",
    "    def __init__(self, path: str):\n",
    "        \"\"\"\n",
    "        Initializes the VectoLite instance with a connection to the SQLite database.\n",
    "\n",
    "        Args:\n",
    "            path (str): The path to the SQLite database file.\n",
    "        \"\"\"\n",
    "        self.path = path\n",
    "        self.db = pysqlite3.connect(f'{path}.sqlite')\n",
    "        self.db.enable_load_extension(True)\n",
    "        sqlite_vec.load(self.db)\n",
    "        self.db.enable_load_extension(False)\n",
    "        self.cache = Cache(path)\n",
    "        self.rownums = None\n",
    "        self.table_name = 'myvecs'\n",
    "\n",
    "    def print_version(self):\n",
    "        \"\"\"\n",
    "        Prints the SQLite and SQLite-vec versions.\n",
    "        \"\"\"\n",
    "        sqlite_version, vec_version = self.db.execute(\n",
    "            \"select sqlite_version(), vec_version()\"\n",
    "        ).fetchone()\n",
    "        print(f\"sqlite_version={sqlite_version}, vec_version={vec_version}\")\n",
    "    \n",
    "    @property\n",
    "    def table_exists(self):\n",
    "        \"\"\"\n",
    "        Checks if a table exists in the SQLite database.\n",
    "\n",
    "        Args:\n",
    "            table_name (str): The name of the table to check.\n",
    "\n",
    "        Returns:\n",
    "            bool: True if the table exists, False otherwise.\n",
    "        \"\"\"\n",
    "        return self.db.execute(f\"SELECT name FROM sqlite_master WHERE type='table' AND name='{self.table_name}'\").fetchone() is not None\n",
    "\n",
    "    @property\n",
    "    def table_len(self):\n",
    "        \"\"\"\n",
    "        Returns the number of rows in the specified table. Will also cache the number of rows internally when called.\n",
    "\n",
    "        Args:\n",
    "            table_name (str): The name of the table.\n",
    "\n",
    "        Returns:\n",
    "            int: The number of rows in the table.\n",
    "        \"\"\"\n",
    "        if not self.rownums:\n",
    "            self.rownums = self.db.execute(f\"SELECT COUNT(*) FROM {self.table_name}\").fetchone()[0]\n",
    "        return self.rownums\n",
    "    \n",
    "    def parse_item(self, item):\n",
    "        \"\"\"\n",
    "        Parses an item and returns its MD5 hash, serialized contents, and serialized vector.\n",
    "\n",
    "        Args:\n",
    "            item (dict): The item to parse.\n",
    "\n",
    "        Returns:\n",
    "            tuple: A tuple containing the MD5 hash (str), serialized contents (str), and serialized vector (bytes).\n",
    "        \"\"\"\n",
    "        contents = orjson.dumps({k: v for k, v in item.items() if k != 'vector'})\n",
    "        md5_hash = hashlib.md5(contents).hexdigest()\n",
    "        return md5_hash, contents, item['vector']\n",
    "\n",
    "    def insert(self, table_name, stream):\n",
    "        \"\"\"\n",
    "        Inserts a stream of items into the specified table.\n",
    "\n",
    "        Args:\n",
    "            table_name (str): The name of the table to insert the items into.\n",
    "            stream (iterable): An iterable stream of items to insert.\n",
    "            binary (bool, optional): Whether to insert the items in binary format. Defaults to False.\n",
    "        \"\"\"\n",
    "        with self.db:\n",
    "            for item in stream:\n",
    "                md5_hash, contents, vector = self.parse_item(item)\n",
    "        \n",
    "                # Edge case: if the table does not exist, create it\n",
    "                if not self.table_exists:\n",
    "                    self.db.execute(f\"CREATE VIRTUAL TABLE {table_name} USING vec0(embedding float[{len(vector)}])\")\n",
    "                    self.rownums = 0\n",
    "\n",
    "                # If we have already inserted this item, no need to add again\n",
    "                if md5_hash in self.cache:\n",
    "                    return\n",
    "\n",
    "                # Insert the item into the table\n",
    "                i = self.table_len + 1\n",
    "                self.db.execute(\n",
    "                    f\"INSERT INTO {table_name}(rowid, embedding) VALUES (?, ?)\",\n",
    "                    [i, serialize_f32(vector)],\n",
    "                )\n",
    "                self.cache[i] = contents\n",
    "                self.cache[md5_hash] = i\n",
    "                self.rownums += 1\n",
    "    \n",
    "    def query_idx(self, query, k=5):\n",
    "        \"\"\"\n",
    "        Queries the specified table for the nearest neighbors to the given query vector.\n",
    "\n",
    "        Args:\n",
    "            query (list): The query vector.\n",
    "\n",
    "        Returns:\n",
    "            tuple: A tuple containing the rowids and distances of the nearest neighbors.\n",
    "        \"\"\"\n",
    "        results = self.db.execute(\n",
    "            f\"\"\"\n",
    "              SELECT\n",
    "                rowid,\n",
    "                distance\n",
    "              FROM {self.table_name}\n",
    "              WHERE embedding MATCH ?\n",
    "              ORDER BY distance\n",
    "              LIMIT {k}\n",
    "            \"\"\",\n",
    "            [serialize_f32(query)],\n",
    "        ).fetchall()\n",
    "        return list(zip(*results))\n",
    "\n",
    "    def query(self, query, k=5):\n",
    "        \"\"\"\n",
    "        Queries the specified table for the nearest neighbors to the given query vector.\n",
    "\n",
    "        Args:\n",
    "            query (list): The query vector.\n",
    "\n",
    "        Returns:\n",
    "            list: A list of the nearest neighbors.\n",
    "        \"\"\"\n",
    "        idxs, dists = self.query_idx(query, k)\n",
    "        return [json.loads(self.cache[i].decode()) for i in idxs], dists"
   ]
  },
  {
   "cell_type": "code",
   "execution_count": 6,
   "metadata": {},
   "outputs": [
    {
     "name": "stdout",
     "output_type": "stream",
     "text": [
      "sqlite_version=3.46.1, vec_version=v0.1.1\n"
     ]
    }
   ],
   "source": [
    "db = VectoLite(\"simsity.sqlite\")\n",
    "db.print_version()"
   ]
  },
  {
   "cell_type": "code",
   "execution_count": 7,
   "metadata": {},
   "outputs": [
    {
     "name": "stdout",
     "output_type": "stream",
     "text": [
      "([{'i': 2}, {'i': 3}, {'i': 1}], (0.0, 0.19999998807907104, 0.20000001788139343))\n"
     ]
    }
   ],
   "source": [
    "items = [\n",
    "    (1, [0.1, 0.1, 0.1, 0.1]),\n",
    "    (2, [0.2, 0.2, 0.2, 0.2]),\n",
    "    (3, [0.3, 0.3, 0.3, 0.3]),\n",
    "    (4, [0.4, 0.4, 0.4, 0.4]),\n",
    "    (5, [0.5, 0.5, 0.5, 0.5]),\n",
    "]\n",
    "query = [0.3, 0.3, 0.3, 0.3]\n",
    "\n",
    "db.insert('myvecs', [{'vector': item[1], \"i\": i} for i, item in enumerate(items)])\n",
    "print(db.query(query, k=3))"
   ]
  },
  {
   "cell_type": "code",
   "execution_count": 8,
   "metadata": {},
   "outputs": [],
   "source": [
    "#| hide\n",
    "import nbdev; nbdev.nbdev_export()"
   ]
  },
  {
   "cell_type": "code",
   "execution_count": null,
   "metadata": {},
   "outputs": [],
   "source": []
  }
 ],
 "metadata": {
  "kernelspec": {
   "display_name": "Python 3 (ipykernel)",
   "language": "python",
   "name": "python3"
  },
  "language_info": {
   "codemirror_mode": {
    "name": "ipython",
    "version": 3
   },
   "file_extension": ".py",
   "mimetype": "text/x-python",
   "name": "python",
   "nbconvert_exporter": "python",
   "pygments_lexer": "ipython3",
   "version": "3.12.1"
  }
 },
 "nbformat": 4,
 "nbformat_minor": 4
}
