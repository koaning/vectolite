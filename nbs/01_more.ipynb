{
 "cells": [
  {
   "cell_type": "code",
   "execution_count": null,
   "id": "d86847d1-aa06-415e-9e14-5be55654db2d",
   "metadata": {},
   "outputs": [],
   "source": [
    "#| default_exp more"
   ]
  },
  {
   "cell_type": "code",
   "execution_count": null,
   "id": "ceda47f2-bf89-439c-a525-be71c6e6652c",
   "metadata": {},
   "outputs": [],
   "source": [
    "#| export\n",
    "\n",
    "def demo():\n",
    "    return \"it works\""
   ]
  },
  {
   "cell_type": "code",
   "execution_count": null,
   "id": "bf9789f2-078e-4980-b9f6-23e86b43271a",
   "metadata": {},
   "outputs": [],
   "source": []
  }
 ],
 "metadata": {
  "kernelspec": {
   "display_name": "python3",
   "language": "python",
   "name": "python3"
  }
 },
 "nbformat": 4,
 "nbformat_minor": 5
}
