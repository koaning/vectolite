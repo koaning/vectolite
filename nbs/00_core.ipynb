{
 "cells": [
  {
   "cell_type": "markdown",
   "metadata": {},
   "source": [
    "# core\n",
    "\n",
    "> This is a single notebook that contains all the source code, yay!"
   ]
  },
  {
   "cell_type": "code",
   "execution_count": null,
   "metadata": {},
   "outputs": [],
   "source": [
    "#| default_exp core"
   ]
  },
  {
   "cell_type": "code",
   "execution_count": null,
   "metadata": {},
   "outputs": [],
   "source": [
    "#| hide\n",
    "#| export\n",
    "from nbdev.showdoc import *\n",
    "from fastcore.basics import patch\n",
    "import json\n",
    "from diskcache import Cache\n",
    "import hashlib\n",
    "import orjson\n",
    "import sqlite_vec\n",
    "import pysqlite3\n",
    "from typing import Dict\n",
    "\n",
    "from typing import List\n",
    "import struct\n",
    "\n",
    "\n",
    "def serialize_f32(vector: List[float]) -> bytes:\n",
    "    \"\"\"Serializes a list of floats into a compact \"raw bytes\" format.\"\"\"\n",
    "    return struct.pack(\"%sf\" % len(vector), *vector)"
   ]
  },
  {
   "cell_type": "code",
   "execution_count": null,
   "metadata": {},
   "outputs": [],
   "source": [
    "#| export\n",
    "\n",
    "class VectoyLite:\n",
    "    def __init__(self, path: str):\n",
    "        \"\"\"\n",
    "        Initializes the VectoLite instance with a connection to the SQLite database.\n",
    "\n",
    "        Parameters\n",
    "        ----------\n",
    "            path \n",
    "                The path to the SQLite database file.\n",
    "        \"\"\"\n",
    "        self.path = path\n",
    "        self.db = pysqlite3.connect(f'{path}.sqlite')\n",
    "        self.db.enable_load_extension(True)\n",
    "        sqlite_vec.load(self.db)\n",
    "        self.db.enable_load_extension(False)\n",
    "        self.cache = Cache(path)\n",
    "        self.rownums = None\n",
    "        self.table_name = 'myvecs'\n",
    "\n",
    "    def __len__(self):\n",
    "        \"\"\"\n",
    "        Returns the number of rows in the specified table. Will also cache the number of rows internally when called.\n",
    "\n",
    "        Returns\n",
    "        -------\n",
    "        int\n",
    "            The number of rows in the table.\n",
    "        \"\"\"\n",
    "        if not self.rownums:\n",
    "            self.rownums = self.db.execute(f\"SELECT COUNT(*) FROM {self.table_name}\").fetchone()[0]\n",
    "        return self.rownums\n",
    "\n",
    "    @property\n",
    "    def table_exists(self) -> bool:\n",
    "        \"\"\"\n",
    "        Checks if a table exists in the SQLite database.\n",
    "\n",
    "        Returns\n",
    "        -------\n",
    "        bool\n",
    "            True if the table exists, False otherwise.\n",
    "        \"\"\"\n",
    "        return self.db.execute(f\"SELECT name FROM sqlite_master WHERE type='table' AND name='{self.table_name}'\").fetchone() is not None"
   ]
  },
  {
   "cell_type": "code",
   "execution_count": null,
   "metadata": {},
   "outputs": [],
   "source": [
    "@patch\n",
    "def print_version(self: VectoyLite):\n",
    "        \"\"\"\n",
    "        Prints the SQLite and SQLite-vec versions.\n",
    "        \"\"\"\n",
    "        sqlite_version, vec_version = self.db.execute(\n",
    "            \"select sqlite_version(), vec_version()\"\n",
    "        ).fetchone()\n",
    "        print(f\"sqlite_version={sqlite_version}, vec_version={vec_version}\")"
   ]
  },
  {
   "cell_type": "code",
   "execution_count": null,
   "metadata": {},
   "outputs": [
    {
     "name": "stdout",
     "output_type": "stream",
     "text": [
      "sqlite_version=3.46.1, vec_version=v0.1.1\n"
     ]
    }
   ],
   "source": [
    "VectoyLite(\"demo\").print_version()"
   ]
  },
  {
   "cell_type": "code",
   "execution_count": null,
   "metadata": {},
   "outputs": [],
   "source": [
    "@patch\n",
    "def parse_item(self: VectoyLite, item: Dict):\n",
    "    \"\"\"\n",
    "    Parses an item and returns its MD5 hash, serialized contents, and vector.\n",
    "\n",
    "    This is mainly meant as an internal method, but there may be times when you want to confirm these manually.\n",
    "\n",
    "    Parameters\n",
    "    ----------\n",
    "        item \n",
    "            The item to parse.\n",
    "\n",
    "    Returns\n",
    "    -------\n",
    "        tuple\n",
    "            A tuple containing the MD5 hash (str), serialized contents (str), and serialized vector (bytes).\n",
    "    \"\"\"\n",
    "    contents = orjson.dumps({k: v for k, v in item.items() if k != 'vector'})\n",
    "    md5_hash = hashlib.md5(contents).hexdigest()\n",
    "    return md5_hash, contents, item['vector']"
   ]
  },
  {
   "cell_type": "code",
   "execution_count": null,
   "metadata": {},
   "outputs": [
    {
     "data": {
      "text/plain": [
       "('fbc24bcc7a1794758fc1327fcfebdaf6', b'{\"hello\":\"world\"}', [1, 2, 3])"
      ]
     },
     "execution_count": null,
     "metadata": {},
     "output_type": "execute_result"
    }
   ],
   "source": [
    "VectoyLite(\"demo\").parse_item({\"hello\": \"world\", \"vector\": [1, 2, 3]})"
   ]
  },
  {
   "cell_type": "code",
   "execution_count": null,
   "metadata": {},
   "outputs": [
    {
     "data": {
      "text/plain": [
       "('a8af219242bb71a1c085ee0c7e16e322', b'{\"hello\":\"world!\"}', [1, 2, 3])"
      ]
     },
     "execution_count": null,
     "metadata": {},
     "output_type": "execute_result"
    }
   ],
   "source": [
    "VectoyLite(\"demo\").parse_item({\"hello\": \"world!\", \"vector\": [1, 2, 3]})"
   ]
  },
  {
   "cell_type": "code",
   "execution_count": null,
   "metadata": {},
   "outputs": [],
   "source": [
    "@patch\n",
    "def insert(self: VectoyLite, stream):\n",
    "    \"\"\"\n",
    "    Inserts a stream of items into the specified table.\n",
    "\n",
    "    Args:\n",
    "        stream (iterable): An iterable stream of items to insert.\n",
    "    \"\"\"\n",
    "    with self.db:\n",
    "        for item in stream:\n",
    "            md5_hash, contents, vector = self.parse_item(item)\n",
    "    \n",
    "            # Edge case: if the table does not exist, create it\n",
    "            if not self.table_exists:\n",
    "                self.db.execute(f\"CREATE VIRTUAL TABLE {self.table_name} USING vec0(embedding float[{len(vector)}])\")\n",
    "                self.rownums = 0\n",
    "\n",
    "            # If we have already inserted this item, no need to add again\n",
    "            if md5_hash in self.cache:\n",
    "                return\n",
    "\n",
    "            # Insert the item into the table\n",
    "            i = self.table_len + 1\n",
    "            self.db.execute(\n",
    "                f\"INSERT INTO {self.table_name}(rowid, embedding) VALUES (?, ?)\",\n",
    "                [i, serialize_f32(vector)],\n",
    "            )\n",
    "            self.cache[i] = contents\n",
    "            self.cache[md5_hash] = i\n",
    "            self.rownums += 1"
   ]
  },
  {
   "cell_type": "code",
   "execution_count": null,
   "metadata": {},
   "outputs": [],
   "source": [
    "@patch\n",
    "def query_idx(self: VectoyLite, query, k=5):\n",
    "    \"\"\"\n",
    "    Queries the specified table for the nearest neighbors to the given query vector.\n",
    "\n",
    "    Args:\n",
    "        query (list): The query vector.\n",
    "\n",
    "    Returns:\n",
    "        tuple: A tuple containing the rowids and distances of the nearest neighbors.\n",
    "    \"\"\"\n",
    "    results = self.db.execute(\n",
    "        f\"\"\"\n",
    "          SELECT\n",
    "            rowid,\n",
    "            distance\n",
    "          FROM {self.table_name}\n",
    "          WHERE embedding MATCH ?\n",
    "          ORDER BY distance\n",
    "          LIMIT {k}\n",
    "        \"\"\",\n",
    "        [serialize_f32(query)],\n",
    "    ).fetchall()\n",
    "    return list(zip(*results))"
   ]
  },
  {
   "cell_type": "code",
   "execution_count": null,
   "metadata": {},
   "outputs": [],
   "source": [
    "@patch\n",
    "def query(self: VectoyLite, query, k=5):\n",
    "    \"\"\"\n",
    "    Queries the specified table for the nearest neighbors to the given query vector.\n",
    "\n",
    "    Args:\n",
    "        query (list): The query vector.\n",
    "\n",
    "    Returns:\n",
    "        list: A list of the nearest neighbors.\n",
    "    \"\"\"\n",
    "    idxs, dists = self.query_idx(query, k)\n",
    "    return [json.loads(self.cache[i].decode()) for i in idxs], dists"
   ]
  },
  {
   "cell_type": "markdown",
   "metadata": {},
   "source": [
    "## Usage\n",
    "\n",
    "This project builds on top of sqlite-vec and serves as a somewhat minimal way to get started. You will not need to write SQL and also get some nice utilities. Before explaining the details though, lets just show how everything works."
   ]
  },
  {
   "cell_type": "code",
   "execution_count": null,
   "metadata": {},
   "outputs": [],
   "source": [
    "db = VectoyLite(\"demo\")"
   ]
  },
  {
   "cell_type": "markdown",
   "metadata": {},
   "source": [
    "Before running anything it is good to observe that we are running modern versions of everything. "
   ]
  },
  {
   "cell_type": "code",
   "execution_count": null,
   "metadata": {},
   "outputs": [
    {
     "name": "stdout",
     "output_type": "stream",
     "text": [
      "sqlite_version=3.46.1, vec_version=v0.1.1\n"
     ]
    }
   ],
   "source": [
    "db.print_version()"
   ]
  },
  {
   "cell_type": "markdown",
   "metadata": {},
   "source": [
    "> VectoLite uses `pysqlite3` under the hood to install the most recent version of sqlite, which should be compatible with `sqlite-vec` right out of the box. There may be edge cases, \n",
    "but we have not hit our head sofar.\n",
    "\n",
    "Now that we have confirmed the version, lets move on to do some basic vector retreival."
   ]
  },
  {
   "cell_type": "code",
   "execution_count": null,
   "metadata": {},
   "outputs": [
    {
     "name": "stdout",
     "output_type": "stream",
     "text": [
      "{'i': 2} 0.0\n",
      "{'i': 3} 0.19999998807907104\n",
      "{'i': 1} 0.20000001788139343\n"
     ]
    }
   ],
   "source": [
    "# Examples just for illustrative purposes. \n",
    "items = [\n",
    "    (1, [0.1, 0.1, 0.1, 0.1]),\n",
    "    (2, [0.2, 0.2, 0.2, 0.2]),\n",
    "    (3, [0.3, 0.3, 0.3, 0.3]),\n",
    "    (4, [0.4, 0.4, 0.4, 0.4]),\n",
    "    (5, [0.5, 0.5, 0.5, 0.5]),\n",
    "]\n",
    "\n",
    "# Query these examples\n",
    "query = [0.3, 0.3, 0.3, 0.3]\n",
    "db.insert([{'vector': item[1], \"i\": i} for i, item in enumerate(items)])\n",
    "\n",
    "# View the output\n",
    "items, distances = db.query(query, k=3)\n",
    "for i, d in zip(items, distances):\n",
    "    print(i, d)"
   ]
  },
  {
   "cell_type": "code",
   "execution_count": null,
   "metadata": {},
   "outputs": [],
   "source": [
    "#| hide\n",
    "import nbdev; nbdev.nbdev_export()"
   ]
  },
  {
   "cell_type": "code",
   "execution_count": null,
   "metadata": {},
   "outputs": [],
   "source": []
  }
 ],
 "metadata": {
  "kernelspec": {
   "display_name": "python3",
   "language": "python",
   "name": "python3"
  }
 },
 "nbformat": 4,
 "nbformat_minor": 4
}
