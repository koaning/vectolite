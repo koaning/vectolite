{
 "cells": [
  {
   "cell_type": "code",
   "execution_count": null,
   "metadata": {},
   "outputs": [],
   "source": [
    "#| hide\n",
    "from vectoylite.core import *"
   ]
  },
  {
   "cell_type": "markdown",
   "metadata": {},
   "source": [
    "# vectolite\n",
    "\n",
    "> Utility/Quickstart for sqlite-vec."
   ]
  },
  {
   "cell_type": "markdown",
   "metadata": {},
   "source": [
    "The goal of this project is to offer a simple way to get started with SQLite-vec. With this project you can: \n",
    "\n",
    "- automatically install the right version of sqlite to run sqlite-vec\n",
    "- not worry about SQL, just use a simple Python API\n",
    "\n",
    "It also comes with some settings that you can turn on/off: \n",
    "\n",
    "- add a cache to detect/prevent duplicates\n",
    "- turn the embeddings into their binary variants \n",
    "- add the non-vector data as json into a cache as well \n"
   ]
  },
  {
   "cell_type": "markdown",
   "metadata": {},
   "source": [
    "## Install"
   ]
  },
  {
   "cell_type": "markdown",
   "metadata": {},
   "source": [
    "```sh\n",
    "pip install vectolite\n",
    "```"
   ]
  },
  {
   "cell_type": "markdown",
   "metadata": {},
   "source": [
    "## How to use"
   ]
  },
  {
   "cell_type": "code",
   "execution_count": null,
   "metadata": {},
   "outputs": [
    {
     "name": "stdout",
     "output_type": "stream",
     "text": [
      "The autoreload extension is already loaded. To reload it, use:\n",
      "  %reload_ext autoreload\n"
     ]
    }
   ],
   "source": [
    "#| hide\n",
    "%load_ext autoreload\n",
    "%autoreload 2"
   ]
  },
  {
   "cell_type": "code",
   "execution_count": null,
   "metadata": {},
   "outputs": [],
   "source": [
    "#| hide\n",
    "! rm -rf another-demo/ another-demo.sqlite"
   ]
  },
  {
   "cell_type": "code",
   "execution_count": null,
   "metadata": {},
   "outputs": [],
   "source": [
    "db = VectoyLite(\"another-demo\")"
   ]
  },
  {
   "cell_type": "markdown",
   "metadata": {},
   "source": [
    "Before running anything it is good to observe that we are running modern versions of everything. "
   ]
  },
  {
   "cell_type": "code",
   "execution_count": null,
   "metadata": {},
   "outputs": [
    {
     "name": "stdout",
     "output_type": "stream",
     "text": [
      "sqlite_version=3.46.1, vec_version=v0.1.1\n"
     ]
    }
   ],
   "source": [
    "db.print_version()"
   ]
  },
  {
   "cell_type": "markdown",
   "metadata": {},
   "source": [
    "> VectoLite uses `pysqlite3` under the hood to install the most recent version of sqlite, which should be compatible with `sqlite-vec` right out of the box. There may be edge cases, \n",
    "but we have not hit our head sofar.\n",
    "\n",
    "Now that we have confirmed the version, lets move on to do some basic vector retreival."
   ]
  },
  {
   "cell_type": "code",
   "execution_count": null,
   "metadata": {},
   "outputs": [
    {
     "name": "stdout",
     "output_type": "stream",
     "text": [
      "d9ca7de2542baac01f7a5491f1d8343e b'{\"i\":0}' [0.1, 0.1, 0.1, 0.1]\n",
      "0c86a97a6b7c3b71476055af09fab23c b'{\"i\":1}' [0.2, 0.2, 0.2, 0.2]\n",
      "7650bb2ac7f27a504e24ff6c530627fa b'{\"i\":2}' [0.3, 0.3, 0.3, 0.3]\n",
      "2760276f8f5a73b6b1983aa83241e99a b'{\"i\":3}' [0.4, 0.4, 0.4, 0.4]\n",
      "2fb946abe0fbb4fa0dc7efe802e2e412 b'{\"i\":4}' [0.5, 0.5, 0.5, 0.5]\n",
      "{'i': 2} 0.0\n",
      "{'i': 3} 0.19999998807907104\n",
      "{'i': 1} 0.20000001788139343\n"
     ]
    }
   ],
   "source": [
    "# Examples just for illustrative purposes. \n",
    "items = [\n",
    "    (1, [0.1, 0.1, 0.1, 0.1]),\n",
    "    (2, [0.2, 0.2, 0.2, 0.2]),\n",
    "    (3, [0.3, 0.3, 0.3, 0.3]),\n",
    "    (4, [0.4, 0.4, 0.4, 0.4]),\n",
    "    (5, [0.5, 0.5, 0.5, 0.5]),\n",
    "]\n",
    "\n",
    "# Query these examples\n",
    "query = [0.3, 0.3, 0.3, 0.3]\n",
    "db.insert([{'vector': item[1], \"i\": i} for i, item in enumerate(items)])\n",
    "\n",
    "# View the output\n",
    "items, distances = db.query(query, k=3)\n",
    "for i, d in zip(items, distances):\n",
    "    print(i, d)"
   ]
  },
  {
   "cell_type": "code",
   "execution_count": null,
   "metadata": {},
   "outputs": [],
   "source": [
    "#| hide\n",
    "import nbdev; nbdev.nbdev_export()"
   ]
  },
  {
   "cell_type": "code",
   "execution_count": null,
   "metadata": {},
   "outputs": [],
   "source": [
    "#| hide\n",
    "! rm -rf another-demo/ another-demo.sqlite demo/ demo.sqlite"
   ]
  },
  {
   "cell_type": "code",
   "execution_count": null,
   "metadata": {},
   "outputs": [],
   "source": [
    "#| hide\n",
    "import nbdev; nbdev.nbdev_export()"
   ]
  },
  {
   "cell_type": "code",
   "execution_count": null,
   "metadata": {},
   "outputs": [],
   "source": []
  }
 ],
 "metadata": {
  "kernelspec": {
   "display_name": "python3",
   "language": "python",
   "name": "python3"
  }
 },
 "nbformat": 4,
 "nbformat_minor": 4
}
